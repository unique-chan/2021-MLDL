{
 "cells": [
  {
   "cell_type": "code",
   "execution_count": 1,
   "metadata": {},
   "outputs": [],
   "source": [
    "import numpy as np"
   ]
  },
  {
   "cell_type": "code",
   "execution_count": 127,
   "metadata": {},
   "outputs": [],
   "source": [
    "def H(distribution):\n",
    "    # Entropy(distribution)\n",
    "    P = np.array(distribution)\n",
    "    # if probability mass is 0, make it 1e-7 (0.0000001) =>\n",
    "    P2 = np.array(distribution)\n",
    "    if len(np.where(P2 == 0)[0]) > 0:\n",
    "        P2[np.where(P2 == 0)[0]] = 10\n",
    "    # printing formular =>\n",
    "    print('= ', end='')\n",
    "    for p in P:\n",
    "        print('-{0}*log_2({0})'.format(p), end=' ')\n",
    "    # calculating entropy =>\n",
    "    entropy = -np.dot(P, np.log2(P2))\n",
    "    print(' =', entropy)\n",
    "#     return entropy"
   ]
  },
  {
   "cell_type": "markdown",
   "metadata": {},
   "source": [
    "### 1. H(LIKE)"
   ]
  },
  {
   "cell_type": "code",
   "execution_count": 44,
   "metadata": {},
   "outputs": [],
   "source": [
    "LIKE = [6/10, 4/10] # T: 6, F: 4"
   ]
  },
  {
   "cell_type": "code",
   "execution_count": 45,
   "metadata": {},
   "outputs": [
    {
     "name": "stdout",
     "output_type": "stream",
     "text": [
      "Sol. H(LIKE) = -0.6*log_2(0.6)-0.4*log_2(0.4) = 0.9709505944546686\n"
     ]
    }
   ],
   "source": [
    "print('Sol. H(LIKE)', end=' ') ; H(LIKE)"
   ]
  },
  {
   "cell_type": "markdown",
   "metadata": {},
   "source": [
    "### 2-1. H(LIKE|CONTENT)"
   ]
  },
  {
   "cell_type": "code",
   "execution_count": 46,
   "metadata": {},
   "outputs": [],
   "source": [
    "CONTENT_ANIMAL = 2/10, [1, 0]    # T: 0, F: 0\n",
    "CONTENT_COOK = 4/10, [1/2, 1/2]  # T: 2, F: 2\n",
    "CONTENT_DOC = 4/10, [1/2, 1/2]   # T: 2, F: 2 "
   ]
  },
  {
   "cell_type": "code",
   "execution_count": 128,
   "metadata": {},
   "outputs": [
    {
     "name": "stdout",
     "output_type": "stream",
     "text": [
      "= -1*log_2(1)-0*log_2(0) = -0.0\n"
     ]
    }
   ],
   "source": [
    "H(CONTENT_ANIMAL[1])"
   ]
  },
  {
   "cell_type": "code",
   "execution_count": 103,
   "metadata": {},
   "outputs": [
    {
     "name": "stdout",
     "output_type": "stream",
     "text": [
      "= -0.5*log_2(0.5)-0.5*log_2(0.5) = 1.0\n"
     ]
    }
   ],
   "source": [
    "H(CONTENT_COOK[1])"
   ]
  },
  {
   "cell_type": "code",
   "execution_count": 104,
   "metadata": {},
   "outputs": [
    {
     "name": "stdout",
     "output_type": "stream",
     "text": [
      "= -0.5*log_2(0.5)-0.5*log_2(0.5) = 1.0\n"
     ]
    }
   ],
   "source": [
    "H(CONTENT_DOC[1])"
   ]
  },
  {
   "cell_type": "code",
   "execution_count": 133,
   "metadata": {},
   "outputs": [
    {
     "name": "stdout",
     "output_type": "stream",
     "text": [
      "Sol. H(LIKE|CONTENT) = 2/10*H(LIKE|ANIMAL) + 4/10*H(LIKE|COOK) + 4/10*H(LIKE|DOCUMENTARY) = 0.8\n"
     ]
    }
   ],
   "source": [
    "print('Sol. H(LIKE|CONTENT) = 2/10*H(LIKE|ANIMAL) + 4/10*H(LIKE|COOK) + 4/10*H(LIKE|DOCUMENTARY) =', \n",
    "      2/10 * 0 + 4/10 * 1 + 4/10 * 1)"
   ]
  },
  {
   "cell_type": "markdown",
   "metadata": {},
   "source": [
    "### 2-2. H(LIKE|TIME)"
   ]
  },
  {
   "cell_type": "code",
   "execution_count": 137,
   "metadata": {},
   "outputs": [],
   "source": [
    "TIME_LONG = 5/10, [2/5, 3/5]    # T: 2, F: 3\n",
    "TIME_SHORT = 5/10, [4/5, 1/5]   # T: 4, F: 1"
   ]
  },
  {
   "cell_type": "code",
   "execution_count": 138,
   "metadata": {},
   "outputs": [
    {
     "name": "stdout",
     "output_type": "stream",
     "text": [
      "= -0.4*log_2(0.4)-0.6*log_2(0.6) = 0.9709505944546686\n"
     ]
    }
   ],
   "source": [
    "H(TIME_LONG[1])"
   ]
  },
  {
   "cell_type": "code",
   "execution_count": 139,
   "metadata": {},
   "outputs": [
    {
     "name": "stdout",
     "output_type": "stream",
     "text": [
      "= -0.8*log_2(0.8)-0.2*log_2(0.2) = 0.7219280948873623\n"
     ]
    }
   ],
   "source": [
    "H(TIME_SHORT[1])"
   ]
  },
  {
   "cell_type": "code",
   "execution_count": 140,
   "metadata": {},
   "outputs": [
    {
     "name": "stdout",
     "output_type": "stream",
     "text": [
      "Sol. H(LIKE|TIME) = 5/10*H(LIKE|LONG) + 5/10*H(LIKE|SHORT) = 0.845\n"
     ]
    }
   ],
   "source": [
    "print('Sol. H(LIKE|TIME) = 5/10*H(LIKE|LONG) + 5/10*H(LIKE|SHORT) =', \n",
    "      5/10*0.97 + 5/10*0.72)"
   ]
  },
  {
   "cell_type": "markdown",
   "metadata": {},
   "source": [
    "### 2-3. H(LIKE|PREMIUM)"
   ]
  },
  {
   "cell_type": "code",
   "execution_count": 141,
   "metadata": {},
   "outputs": [],
   "source": [
    "PREMIUM_YES = 5/10, [2/5, 3/5]    # T: 2, F: 3\n",
    "PREMIUM_NO  = 5/10, [4/5, 1/5]    # T: 4, F: 1"
   ]
  },
  {
   "cell_type": "code",
   "execution_count": 143,
   "metadata": {},
   "outputs": [
    {
     "name": "stdout",
     "output_type": "stream",
     "text": [
      "= -0.4*log_2(0.4)-0.6*log_2(0.6) = 0.9709505944546686\n"
     ]
    }
   ],
   "source": [
    "H(PREMIUM_YES[1])"
   ]
  },
  {
   "cell_type": "code",
   "execution_count": 144,
   "metadata": {},
   "outputs": [
    {
     "name": "stdout",
     "output_type": "stream",
     "text": [
      "= -0.8*log_2(0.8)-0.2*log_2(0.2) = 0.7219280948873623\n"
     ]
    }
   ],
   "source": [
    "H(PREMIUM_NO[1])"
   ]
  },
  {
   "cell_type": "code",
   "execution_count": 145,
   "metadata": {},
   "outputs": [
    {
     "name": "stdout",
     "output_type": "stream",
     "text": [
      "Sol. H(LIKE|PREMIUM) = 5/10*H(LIKE|YES) + 5/10*H(LIKE|NO) = 0.845\n"
     ]
    }
   ],
   "source": [
    "print('Sol. H(LIKE|PREMIUM) = 5/10*H(LIKE|YES) + 5/10*H(LIKE|NO) =', \n",
    "      5/10*0.97 + 5/10*0.72)"
   ]
  },
  {
   "cell_type": "markdown",
   "metadata": {},
   "source": [
    "### 3. IG(LIKE|CONTENT), IG(LIKE|TIME), IG(LIKE|PREMIUM)"
   ]
  },
  {
   "cell_type": "code",
   "execution_count": 150,
   "metadata": {},
   "outputs": [
    {
     "name": "stdout",
     "output_type": "stream",
     "text": [
      "Sol. H(LIKE) - H(LIKE|CONTENT) = 0.170000\n"
     ]
    }
   ],
   "source": [
    "print('Sol. H(LIKE) - H(LIKE|CONTENT) = %f' % (0.97 - 0.8))"
   ]
  },
  {
   "cell_type": "code",
   "execution_count": 151,
   "metadata": {},
   "outputs": [
    {
     "name": "stdout",
     "output_type": "stream",
     "text": [
      "Sol. H(LIKE) - H(LIKE|TIME) = 0.125000\n"
     ]
    }
   ],
   "source": [
    "print('Sol. H(LIKE) - H(LIKE|TIME) = %f' % (0.97 - 0.845))"
   ]
  },
  {
   "cell_type": "code",
   "execution_count": 152,
   "metadata": {},
   "outputs": [
    {
     "name": "stdout",
     "output_type": "stream",
     "text": [
      "Sol. H(LIKE) - H(LIKE|PREMIUM) = 0.125000\n"
     ]
    }
   ],
   "source": [
    "print('Sol. H(LIKE) - H(LIKE|PREMIUM) = %f' % (0.97 - 0.845))"
   ]
  }
 ],
 "metadata": {
  "kernelspec": {
   "display_name": "Python 3",
   "language": "python",
   "name": "python3"
  },
  "language_info": {
   "codemirror_mode": {
    "name": "ipython",
    "version": 3
   },
   "file_extension": ".py",
   "mimetype": "text/x-python",
   "name": "python",
   "nbconvert_exporter": "python",
   "pygments_lexer": "ipython3",
   "version": "3.7.1"
  }
 },
 "nbformat": 4,
 "nbformat_minor": 2
}
